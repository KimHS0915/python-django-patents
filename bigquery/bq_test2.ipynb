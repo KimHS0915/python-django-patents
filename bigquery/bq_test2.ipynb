{
 "cells": [
  {
   "cell_type": "code",
   "execution_count": 1,
   "metadata": {},
   "outputs": [],
   "source": [
    "from google.cloud import bigquery\n",
    "\n",
    "client = bigquery.Client()"
   ]
  },
  {
   "cell_type": "code",
   "execution_count": 2,
   "metadata": {},
   "outputs": [],
   "source": [
    "query = \"\"\"\n",
    "SELECT publication_number, application_number, country_code, filing_date, ARRAY_TO_STRING(assignee, ', ') AS assignee,\n",
    "       t.text AS title, a.text AS abstract, c.text AS claims\n",
    "FROM `patents-public-data.patents.publications`,\n",
    "UNNEST (title_localized) AS t,\n",
    "UNNEST (abstract_localized) AS a,\n",
    "UNNEST (claims_localized) AS c\n",
    "WHERE t.language='en' AND a.language='en' AND c.language='en'\n",
    "LIMIT 100\n",
    "\"\"\""
   ]
  },
  {
   "cell_type": "code",
   "execution_count": 3,
   "metadata": {},
   "outputs": [],
   "source": [
    "df = client.query(query).to_dataframe()"
   ]
  },
  {
   "cell_type": "code",
   "execution_count": 4,
   "metadata": {},
   "outputs": [],
   "source": [
    "import pandas as pd"
   ]
  },
  {
   "cell_type": "code",
   "execution_count": 5,
   "metadata": {},
   "outputs": [
    {
     "data": {
      "text/html": [
       "<div>\n",
       "<style scoped>\n",
       "    .dataframe tbody tr th:only-of-type {\n",
       "        vertical-align: middle;\n",
       "    }\n",
       "\n",
       "    .dataframe tbody tr th {\n",
       "        vertical-align: top;\n",
       "    }\n",
       "\n",
       "    .dataframe thead th {\n",
       "        text-align: right;\n",
       "    }\n",
       "</style>\n",
       "<table border=\"1\" class=\"dataframe\">\n",
       "  <thead>\n",
       "    <tr style=\"text-align: right;\">\n",
       "      <th></th>\n",
       "      <th>publication_number</th>\n",
       "      <th>application_number</th>\n",
       "      <th>country_code</th>\n",
       "      <th>filing_date</th>\n",
       "      <th>assignee</th>\n",
       "      <th>title</th>\n",
       "      <th>abstract</th>\n",
       "      <th>claims</th>\n",
       "    </tr>\n",
       "  </thead>\n",
       "  <tbody>\n",
       "    <tr>\n",
       "      <th>0</th>\n",
       "      <td>US-5748460-A</td>\n",
       "      <td>US-79862697-A</td>\n",
       "      <td>US</td>\n",
       "      <td>19970211</td>\n",
       "      <td>Canon Kabushiki Kaisha</td>\n",
       "      <td>Power supply apparatus</td>\n",
       "      <td>In a power supply apparatus which is used for ...</td>\n",
       "      <td>What is claimed is: \\n     \\n       1. A power...</td>\n",
       "    </tr>\n",
       "    <tr>\n",
       "      <th>1</th>\n",
       "      <td>US-5869684-A</td>\n",
       "      <td>US-7676398-A</td>\n",
       "      <td>US</td>\n",
       "      <td>19980513</td>\n",
       "      <td>Sumitomo Chemical Company, Limited</td>\n",
       "      <td>Method for producing pyrazolinone compounds</td>\n",
       "      <td>A method for producing a pyrazolinone compound...</td>\n",
       "      <td>What is claimed is: \\n     \\n       1. A metho...</td>\n",
       "    </tr>\n",
       "    <tr>\n",
       "      <th>2</th>\n",
       "      <td>US-6072963-A</td>\n",
       "      <td>US-27248499-A</td>\n",
       "      <td>US</td>\n",
       "      <td>19990319</td>\n",
       "      <td>Eastman Kodak Company</td>\n",
       "      <td>Camera with circuit board having light baffle ...</td>\n",
       "      <td>A camera comprising a front taking lens, an ex...</td>\n",
       "      <td>What is claimed is: \\n     \\n       1. A camer...</td>\n",
       "    </tr>\n",
       "    <tr>\n",
       "      <th>3</th>\n",
       "      <td>US-6667393-B2</td>\n",
       "      <td>US-19471802-A</td>\n",
       "      <td>US</td>\n",
       "      <td>20020711</td>\n",
       "      <td>Pfizer Inc.</td>\n",
       "      <td>Azalide antibiotic compositions</td>\n",
       "      <td>Antibiotic compositions comprising an equilibr...</td>\n",
       "      <td>What is claimed is:  \\n     \\n       1. A comp...</td>\n",
       "    </tr>\n",
       "    <tr>\n",
       "      <th>4</th>\n",
       "      <td>US-5777598-A</td>\n",
       "      <td>US-77447896-A</td>\n",
       "      <td>US</td>\n",
       "      <td>19961230</td>\n",
       "      <td>Honeywell Inc.</td>\n",
       "      <td>Computer-generated display permitting alignmen...</td>\n",
       "      <td>A computer system receives a number of differe...</td>\n",
       "      <td>We claim: \\n     \\n       1. A display system ...</td>\n",
       "    </tr>\n",
       "  </tbody>\n",
       "</table>\n",
       "</div>"
      ],
      "text/plain": [
       "  publication_number application_number country_code  filing_date  \\\n",
       "0       US-5748460-A      US-79862697-A           US     19970211   \n",
       "1       US-5869684-A       US-7676398-A           US     19980513   \n",
       "2       US-6072963-A      US-27248499-A           US     19990319   \n",
       "3      US-6667393-B2      US-19471802-A           US     20020711   \n",
       "4       US-5777598-A      US-77447896-A           US     19961230   \n",
       "\n",
       "                             assignee  \\\n",
       "0              Canon Kabushiki Kaisha   \n",
       "1  Sumitomo Chemical Company, Limited   \n",
       "2               Eastman Kodak Company   \n",
       "3                         Pfizer Inc.   \n",
       "4                      Honeywell Inc.   \n",
       "\n",
       "                                               title  \\\n",
       "0                             Power supply apparatus   \n",
       "1        Method for producing pyrazolinone compounds   \n",
       "2  Camera with circuit board having light baffle ...   \n",
       "3                    Azalide antibiotic compositions   \n",
       "4  Computer-generated display permitting alignmen...   \n",
       "\n",
       "                                            abstract  \\\n",
       "0  In a power supply apparatus which is used for ...   \n",
       "1  A method for producing a pyrazolinone compound...   \n",
       "2  A camera comprising a front taking lens, an ex...   \n",
       "3  Antibiotic compositions comprising an equilibr...   \n",
       "4  A computer system receives a number of differe...   \n",
       "\n",
       "                                              claims  \n",
       "0  What is claimed is: \\n     \\n       1. A power...  \n",
       "1  What is claimed is: \\n     \\n       1. A metho...  \n",
       "2  What is claimed is: \\n     \\n       1. A camer...  \n",
       "3  What is claimed is:  \\n     \\n       1. A comp...  \n",
       "4  We claim: \\n     \\n       1. A display system ...  "
      ]
     },
     "execution_count": 5,
     "metadata": {},
     "output_type": "execute_result"
    }
   ],
   "source": [
    "df.head()"
   ]
  },
  {
   "cell_type": "code",
   "execution_count": 6,
   "metadata": {},
   "outputs": [
    {
     "data": {
      "text/html": [
       "<div>\n",
       "<style scoped>\n",
       "    .dataframe tbody tr th:only-of-type {\n",
       "        vertical-align: middle;\n",
       "    }\n",
       "\n",
       "    .dataframe tbody tr th {\n",
       "        vertical-align: top;\n",
       "    }\n",
       "\n",
       "    .dataframe thead th {\n",
       "        text-align: right;\n",
       "    }\n",
       "</style>\n",
       "<table border=\"1\" class=\"dataframe\">\n",
       "  <thead>\n",
       "    <tr style=\"text-align: right;\">\n",
       "      <th></th>\n",
       "      <th>publication_number</th>\n",
       "      <th>application_number</th>\n",
       "      <th>country_code</th>\n",
       "      <th>filing_date</th>\n",
       "      <th>assignee</th>\n",
       "      <th>title</th>\n",
       "      <th>abstract</th>\n",
       "      <th>claims</th>\n",
       "    </tr>\n",
       "  </thead>\n",
       "  <tbody>\n",
       "    <tr>\n",
       "      <th>95</th>\n",
       "      <td>US-6567453-B1</td>\n",
       "      <td>US-59885000-A</td>\n",
       "      <td>US</td>\n",
       "      <td>20000621</td>\n",
       "      <td>Mitsubishi Denki Kabushiki Kaisha</td>\n",
       "      <td>Solid-state laser oscillator</td>\n",
       "      <td>A solid-state laser oscillator comprising soli...</td>\n",
       "      <td>What is claimed is:  \\n     \\n       1. A soli...</td>\n",
       "    </tr>\n",
       "    <tr>\n",
       "      <th>96</th>\n",
       "      <td>US-6680291-B1</td>\n",
       "      <td>US-45438099-A</td>\n",
       "      <td>US</td>\n",
       "      <td>19991203</td>\n",
       "      <td>Regeneron Pharmaceuticals, Inc.</td>\n",
       "      <td>Modified ciliary neurotrophic factor, method o...</td>\n",
       "      <td>Modified ciliary neurotrophic factor, methods ...</td>\n",
       "      <td>We claim:  \\n     \\n       1. A method of trea...</td>\n",
       "    </tr>\n",
       "    <tr>\n",
       "      <th>97</th>\n",
       "      <td>US-5903737-A</td>\n",
       "      <td>US-86577997-A</td>\n",
       "      <td>US</td>\n",
       "      <td>19970530</td>\n",
       "      <td>Lg Electronics Inc.</td>\n",
       "      <td>Apparatus and method for serial data communica...</td>\n",
       "      <td>An apparatus and method for serial data commun...</td>\n",
       "      <td>What is claimed: \\n     \\n       1. An apparat...</td>\n",
       "    </tr>\n",
       "    <tr>\n",
       "      <th>98</th>\n",
       "      <td>US-5905724-A</td>\n",
       "      <td>US-80139997-A</td>\n",
       "      <td>US</td>\n",
       "      <td>19970220</td>\n",
       "      <td>Hewlett-Packard Limited</td>\n",
       "      <td>Message modification apparatus for use in a te...</td>\n",
       "      <td>A programmable message substitution unit PMSU ...</td>\n",
       "      <td>We claim: \\n     \\n       1. Apparatus inserta...</td>\n",
       "    </tr>\n",
       "    <tr>\n",
       "      <th>99</th>\n",
       "      <td>US-6160139-A</td>\n",
       "      <td>US-4827998-A</td>\n",
       "      <td>US</td>\n",
       "      <td>19980326</td>\n",
       "      <td>Council Of Scientific &amp; Industrial Research</td>\n",
       "      <td>Process for the oxidation of pseudodiosgenin d...</td>\n",
       "      <td>The invention relates to a process for the pro...</td>\n",
       "      <td>We claim: \\n     \\n       1. An improved proce...</td>\n",
       "    </tr>\n",
       "  </tbody>\n",
       "</table>\n",
       "</div>"
      ],
      "text/plain": [
       "   publication_number application_number country_code  filing_date  \\\n",
       "95      US-6567453-B1      US-59885000-A           US     20000621   \n",
       "96      US-6680291-B1      US-45438099-A           US     19991203   \n",
       "97       US-5903737-A      US-86577997-A           US     19970530   \n",
       "98       US-5905724-A      US-80139997-A           US     19970220   \n",
       "99       US-6160139-A       US-4827998-A           US     19980326   \n",
       "\n",
       "                                       assignee  \\\n",
       "95            Mitsubishi Denki Kabushiki Kaisha   \n",
       "96              Regeneron Pharmaceuticals, Inc.   \n",
       "97                          Lg Electronics Inc.   \n",
       "98                      Hewlett-Packard Limited   \n",
       "99  Council Of Scientific & Industrial Research   \n",
       "\n",
       "                                                title  \\\n",
       "95                       Solid-state laser oscillator   \n",
       "96  Modified ciliary neurotrophic factor, method o...   \n",
       "97  Apparatus and method for serial data communica...   \n",
       "98  Message modification apparatus for use in a te...   \n",
       "99  Process for the oxidation of pseudodiosgenin d...   \n",
       "\n",
       "                                             abstract  \\\n",
       "95  A solid-state laser oscillator comprising soli...   \n",
       "96  Modified ciliary neurotrophic factor, methods ...   \n",
       "97  An apparatus and method for serial data commun...   \n",
       "98  A programmable message substitution unit PMSU ...   \n",
       "99  The invention relates to a process for the pro...   \n",
       "\n",
       "                                               claims  \n",
       "95  What is claimed is:  \\n     \\n       1. A soli...  \n",
       "96  We claim:  \\n     \\n       1. A method of trea...  \n",
       "97  What is claimed: \\n     \\n       1. An apparat...  \n",
       "98  We claim: \\n     \\n       1. Apparatus inserta...  \n",
       "99  We claim: \\n     \\n       1. An improved proce...  "
      ]
     },
     "execution_count": 6,
     "metadata": {},
     "output_type": "execute_result"
    }
   ],
   "source": [
    "df.tail()"
   ]
  },
  {
   "cell_type": "code",
   "execution_count": 7,
   "metadata": {},
   "outputs": [
    {
     "data": {
      "text/plain": [
       "RangeIndex(start=0, stop=100, step=1)"
      ]
     },
     "execution_count": 7,
     "metadata": {},
     "output_type": "execute_result"
    }
   ],
   "source": [
    "df.index"
   ]
  },
  {
   "cell_type": "code",
   "execution_count": 8,
   "metadata": {},
   "outputs": [
    {
     "data": {
      "text/plain": [
       "Index(['publication_number', 'application_number', 'country_code',\n",
       "       'filing_date', 'assignee', 'title', 'abstract', 'claims'],\n",
       "      dtype='object')"
      ]
     },
     "execution_count": 8,
     "metadata": {},
     "output_type": "execute_result"
    }
   ],
   "source": [
    "df.columns"
   ]
  },
  {
   "cell_type": "code",
   "execution_count": null,
   "metadata": {},
   "outputs": [],
   "source": []
  }
 ],
 "metadata": {
  "kernelspec": {
   "display_name": "Python 3",
   "language": "python",
   "name": "python3"
  },
  "language_info": {
   "codemirror_mode": {
    "name": "ipython",
    "version": 3
   },
   "file_extension": ".py",
   "mimetype": "text/x-python",
   "name": "python",
   "nbconvert_exporter": "python",
   "pygments_lexer": "ipython3",
   "version": "3.7.6"
  }
 },
 "nbformat": 4,
 "nbformat_minor": 4
}
